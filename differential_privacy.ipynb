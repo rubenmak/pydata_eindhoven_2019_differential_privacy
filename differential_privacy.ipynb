{
 "cells": [
  {
   "cell_type": "code",
   "execution_count": 1,
   "metadata": {
    "slideshow": {
     "slide_type": "skip"
    }
   },
   "outputs": [
    {
     "name": "stdout",
     "output_type": "stream",
     "text": [
      "Requirement already satisfied: numpy in ./venv/differential_privacy/lib/python3.6/site-packages\n",
      "Requirement already satisfied: matplotlib in ./venv/differential_privacy/lib/python3.6/site-packages\n",
      "Requirement already satisfied: pyparsing!=2.0.4,!=2.1.2,!=2.1.6,>=2.0.1 in ./venv/differential_privacy/lib/python3.6/site-packages (from matplotlib)\n",
      "Requirement already satisfied: python-dateutil>=2.1 in ./venv/differential_privacy/lib/python3.6/site-packages (from matplotlib)\n",
      "Requirement already satisfied: numpy>=1.11 in ./venv/differential_privacy/lib/python3.6/site-packages (from matplotlib)\n",
      "Requirement already satisfied: kiwisolver>=1.0.1 in ./venv/differential_privacy/lib/python3.6/site-packages (from matplotlib)\n",
      "Requirement already satisfied: cycler>=0.10 in ./venv/differential_privacy/lib/python3.6/site-packages (from matplotlib)\n",
      "Requirement already satisfied: six>=1.5 in ./venv/differential_privacy/lib/python3.6/site-packages (from python-dateutil>=2.1->matplotlib)\n",
      "Requirement already satisfied: setuptools in ./venv/differential_privacy/lib/python3.6/site-packages (from kiwisolver>=1.0.1->matplotlib)\n",
      "Requirement already satisfied: pandas in ./venv/differential_privacy/lib/python3.6/site-packages\n",
      "Requirement already satisfied: pytz>=2017.2 in ./venv/differential_privacy/lib/python3.6/site-packages (from pandas)\n",
      "Requirement already satisfied: numpy>=1.13.3 in ./venv/differential_privacy/lib/python3.6/site-packages (from pandas)\n",
      "Requirement already satisfied: python-dateutil>=2.6.1 in ./venv/differential_privacy/lib/python3.6/site-packages (from pandas)\n",
      "Requirement already satisfied: six>=1.5 in ./venv/differential_privacy/lib/python3.6/site-packages (from python-dateutil>=2.6.1->pandas)\n",
      "Requirement already satisfied: scipy in ./venv/differential_privacy/lib/python3.6/site-packages\n",
      "Requirement already satisfied: numpy>=1.13.3 in ./venv/differential_privacy/lib/python3.6/site-packages (from scipy)\n",
      "Requirement already satisfied: seaborn in ./venv/differential_privacy/lib/python3.6/site-packages\n",
      "Requirement already satisfied: numpy>=1.9.3 in ./venv/differential_privacy/lib/python3.6/site-packages (from seaborn)\n",
      "Requirement already satisfied: scipy>=0.14.0 in ./venv/differential_privacy/lib/python3.6/site-packages (from seaborn)\n",
      "Requirement already satisfied: pandas>=0.15.2 in ./venv/differential_privacy/lib/python3.6/site-packages (from seaborn)\n",
      "Requirement already satisfied: matplotlib>=1.4.3 in ./venv/differential_privacy/lib/python3.6/site-packages (from seaborn)\n",
      "Requirement already satisfied: pytz>=2017.2 in ./venv/differential_privacy/lib/python3.6/site-packages (from pandas>=0.15.2->seaborn)\n",
      "Requirement already satisfied: python-dateutil>=2.6.1 in ./venv/differential_privacy/lib/python3.6/site-packages (from pandas>=0.15.2->seaborn)\n",
      "Requirement already satisfied: pyparsing!=2.0.4,!=2.1.2,!=2.1.6,>=2.0.1 in ./venv/differential_privacy/lib/python3.6/site-packages (from matplotlib>=1.4.3->seaborn)\n",
      "Requirement already satisfied: kiwisolver>=1.0.1 in ./venv/differential_privacy/lib/python3.6/site-packages (from matplotlib>=1.4.3->seaborn)\n",
      "Requirement already satisfied: cycler>=0.10 in ./venv/differential_privacy/lib/python3.6/site-packages (from matplotlib>=1.4.3->seaborn)\n",
      "Requirement already satisfied: six>=1.5 in ./venv/differential_privacy/lib/python3.6/site-packages (from python-dateutil>=2.6.1->pandas>=0.15.2->seaborn)\n",
      "Requirement already satisfied: setuptools in ./venv/differential_privacy/lib/python3.6/site-packages (from kiwisolver>=1.0.1->matplotlib>=1.4.3->seaborn)\n",
      "Requirement already satisfied: networkx in ./venv/differential_privacy/lib/python3.6/site-packages\n",
      "Requirement already satisfied: decorator>=4.3.0 in ./venv/differential_privacy/lib/python3.6/site-packages (from networkx)\n",
      "Requirement already satisfied: graphviz in ./venv/differential_privacy/lib/python3.6/site-packages\n",
      "Requirement already satisfied: pydot in ./venv/differential_privacy/lib/python3.6/site-packages\n",
      "Requirement already satisfied: pyparsing>=2.1.4 in ./venv/differential_privacy/lib/python3.6/site-packages (from pydot)\n"
     ]
    }
   ],
   "source": [
    "import sys\n",
    "!{sys.executable} -m pip install numpy\n",
    "!{sys.executable} -m pip install matplotlib\n",
    "!{sys.executable} -m pip install pandas\n",
    "!{sys.executable} -m pip install scipy\n",
    "!{sys.executable} -m pip install seaborn\n",
    "!{sys.executable} -m pip install networkx\n",
    "!{sys.executable} -m pip install graphviz\n",
    "!{sys.executable} -m pip install pydot"
   ]
  },
  {
   "cell_type": "code",
   "execution_count": 2,
   "metadata": {
    "slideshow": {
     "slide_type": "skip"
    }
   },
   "outputs": [],
   "source": [
    "from IPython.display import Latex, Image\n",
    "import numpy as np\n",
    "import pandas as pd\n",
    "import matplotlib.pyplot as plt\n",
    "from scipy.stats import bernoulli, norm, binom\n",
    "import seaborn as sns\n",
    "import networkx as nx\n",
    "import graphviz\n",
    "import os\n",
    "import urllib"
   ]
  },
  {
   "cell_type": "markdown",
   "metadata": {
    "slideshow": {
     "slide_type": "slide"
    }
   },
   "source": [
    "<p class=\"gap2\">\n",
    "<h1 style=\"color: #ed9041\">Advertising, Algorithms and Privacy: <br>\n",
    "Recent Open-source Developments</h1>\n",
    "\n",
    "<h2 style=\"color: #667b83\">Or actually only differential privacy</h2>\n",
    "\n",
    "\n",
    "<p class=\"gap05\">  </p>\n",
    "<h3 style=\"color: #459db9\">Ruben Mak <br>\n",
    "Head of Data Science at Greenhouse</h3>\n",
    "<img src=\"images/pydata_eindhoven.jpeg\">\n",
    "</p>"
   ]
  },
  {
   "cell_type": "markdown",
   "metadata": {
    "slideshow": {
     "slide_type": "slide"
    }
   },
   "source": [
    "## Open-source Contributions from Advertising Companies\n",
    "* Google: Tensorflow\n",
    "* Facebook: Torch\n",
    "* Greenhouse: https://pypi.org/user/marvin.ng/\n",
    "\n",
    "<p><img src=\"images/marvin.ng.png\"></p>"
   ]
  },
  {
   "cell_type": "markdown",
   "metadata": {
    "slideshow": {
     "slide_type": "slide"
    }
   },
   "source": [
    "## AI - Privacy trade-off\n",
    "* Great value from current data explosion and algorithms\n",
    "* But how to balance against privacy concerns?"
   ]
  },
  {
   "cell_type": "markdown",
   "metadata": {
    "slideshow": {
     "slide_type": "slide"
    }
   },
   "source": [
    "## When is data anonymous?\n",
    "\n",
    "<p><img src='images/imdb_netflix.png'></p>\n",
    "\n",
    "* [How To Break Anonymity of the Netflix Prize Dataset](http://citeseerx.ist.psu.edu/viewdoc/download?doi=10.1.1.100.3581&rep=rep1&type=pdf)\n",
    "* [De-anonymization of Netflix Reviews using Amazon Reviews](https://courses.csail.mit.edu/6.857/2018/project/Archie-Gershon-Katchoff-Zeng-Netflix.pdf)"
   ]
  },
  {
   "cell_type": "markdown",
   "metadata": {
    "slideshow": {
     "slide_type": "slide"
    }
   },
   "source": [
    "## Machine learning example\n",
    "\n",
    "<p><img src='images/model_inversion_attack.png' width=\"500\" height=\"600\"></p>\n",
    "\n",
    "* [Model Inversion Attacks that Exploit Confidence Information](https://www.cs.cmu.edu/~mfredrik/papers/fjr2015ccs.pdf)"
   ]
  },
  {
   "cell_type": "markdown",
   "metadata": {
    "slideshow": {
     "slide_type": "slide"
    }
   },
   "source": [
    "## Differential Privacy\n",
    "\n",
    "* How can we quantify privacy?\n",
    "* [Cynthia Dwork 2006, Microsoft Research](https://www.microsoft.com/en-us/research/wp-content/uploads/2016/02/dwork.pdf)\n",
    "\n",
    "<p><img src='images/dwork_2006.png' width=\"800\" height=\"600\"></p>\n"
   ]
  },
  {
   "cell_type": "markdown",
   "metadata": {
    "slideshow": {
     "slide_type": "slide"
    }
   },
   "source": [
    "## The Differential Privacy Guarantee\n",
    "\n",
    "* But what does this mean?\n",
    "\n",
    "<p><img src='images/differential_privacy_guarantee.png' width=\"900\" height=\"700\"></p>\n",
    "\n",
    "* [Differential Privacy: a Primer for Non-Technical People](https://privacytools.seas.harvard.edu/files/privacytools/files/pedagogical-document-dp_new.pdf)"
   ]
  },
  {
   "cell_type": "markdown",
   "metadata": {
    "slideshow": {
     "slide_type": "slide"
    }
   },
   "source": [
    "## The Privacy Budget\n",
    "\n",
    "<p><img src='images/privacy_budget.png' width=\"900\" height=\"700\"></p>\n",
    "\n",
    "Why?\n",
    "\n",
    "If $Pr[f(D_1)] \\leq exp(\\epsilon_f) * Pr[f(D_2)]$ and $Pr[g(D_1)] \\leq exp(\\epsilon_g) * Pr[g(D_2)]$ then\n",
    "\n",
    "$Pr[h(f(D_1),g(D_1))] \\leq exp(\\epsilon_f + \\epsilon_g) * Pr[h(f(D_2),g(D_2))]$"
   ]
  },
  {
   "cell_type": "markdown",
   "metadata": {
    "slideshow": {
     "slide_type": "slide"
    }
   },
   "source": [
    "<p><img src='images/google_is_opensourcing.png'></p>\n",
    "\n",
    "* This talk will focus on this open-source contribution\n",
    "* We focus on global differential privacy: user level data is stored in central database\n",
    "* The opposite is local differential privacy: e.g. the data is made differentially private before it leaves the device of the user [Example: RAPPOR](https://static.googleusercontent.com/media/research.google.com/en//pubs/archive/42852.pdf)\n",
    "* [Google Announcement](https://developers.googleblog.com/2019/09/enabling-developers-and-organizations.html)\n",
    "* [Technical paper Google](https://arxiv.org/pdf/1909.01917.pdf)\n",
    "* [Uber open-sourcing differentially private SQL](https://users.cs.duke.edu/~ashwin/pubs/PrivateSQL-VLDB2019.pdf)\n",
    "* [Microsoft on differentially private SQL](https://www.microsoft.com/en-us/research/video/private-sql-a-differentially-private-sql-query-engine/)"
   ]
  },
  {
   "cell_type": "markdown",
   "metadata": {
    "slideshow": {
     "slide_type": "slide"
    }
   },
   "source": [
    "## What mechanism can we use to achieve this?\n",
    "\n",
    "By adding noise to the results, using the Laplace distribution.\n",
    "\n",
    "Density of the Laplace distribution: $\\dfrac{1}{2b}exp\\left(-\\dfrac{|x-\\mu|}{b}\\right)$\n",
    "\n",
    "<p><img src='images/Laplace-distribution_pdf.png' width=\"500\" height=\"600\"></p>"
   ]
  },
  {
   "cell_type": "markdown",
   "metadata": {
    "slideshow": {
     "slide_type": "slide"
    }
   },
   "source": [
    "## What do we use for $Laplace(\\mu,b)$?\n",
    "\n",
    "$\\mu = 0$ we don't want to bias results!\n",
    "\n",
    "$b = \\dfrac{s}{\\epsilon}$ gives $\\epsilon$-differential privacy where $s$ is the sensitivity bound of the function\n",
    "\n",
    "<p><img src='images/function_sensitivity.png'></p>\n",
    "\n",
    "* First pitfall: multiple contributions within a partition\n",
    "* Second pitfall: leaking GROUP BY keys\n",
    "* Third pitfall: contributions to multiple partitions"
   ]
  },
  {
   "cell_type": "code",
   "execution_count": 3,
   "metadata": {
    "slideshow": {
     "slide_type": "slide"
    }
   },
   "outputs": [
    {
     "name": "stdout",
     "output_type": "stream",
     "text": [
      "     Survived  Pclass                                               Name  \\\n",
      "0           0       3                             Mr. Owen Harris Braund   \n",
      "1           1       1  Mrs. John Bradley (Florence Briggs Thayer) Cum...   \n",
      "2           1       3                              Miss. Laina Heikkinen   \n",
      "3           1       1        Mrs. Jacques Heath (Lily May Peel) Futrelle   \n",
      "4           0       3                            Mr. William Henry Allen   \n",
      "..        ...     ...                                                ...   \n",
      "882         0       2                               Rev. Juozas Montvila   \n",
      "883         1       1                        Miss. Margaret Edith Graham   \n",
      "884         0       3                     Miss. Catherine Helen Johnston   \n",
      "885         1       1                               Mr. Karl Howell Behr   \n",
      "886         0       3                                 Mr. Patrick Dooley   \n",
      "\n",
      "        Sex   Age  Siblings/Spouses Aboard  Parents/Children Aboard     Fare  \n",
      "0      male  22.0                        1                        0   7.2500  \n",
      "1    female  38.0                        1                        0  71.2833  \n",
      "2    female  26.0                        0                        0   7.9250  \n",
      "3    female  35.0                        1                        0  53.1000  \n",
      "4      male  35.0                        0                        0   8.0500  \n",
      "..      ...   ...                      ...                      ...      ...  \n",
      "882    male  27.0                        0                        0  13.0000  \n",
      "883  female  19.0                        0                        0  30.0000  \n",
      "884  female   7.0                        1                        2  23.4500  \n",
      "885    male  26.0                        0                        0  30.0000  \n",
      "886    male  32.0                        0                        0   7.7500  \n",
      "\n",
      "[887 rows x 8 columns]\n"
     ]
    }
   ],
   "source": [
    "if not os.path.exists('data'):\n",
    "    os.makedirs('data')\n",
    "\n",
    "if not os.path.isfile('data/titanic.csv'):\n",
    "    urllib.request.urlretrieve('https://web.stanford.edu/class/archive/cs/cs109/cs109.1166/stuff/titanic.csv', \n",
    "                       'data/titanic.csv')\n",
    "\n",
    "df = pd.read_csv('data/titanic.csv')\n",
    "\n",
    "print(df)"
   ]
  },
  {
   "cell_type": "code",
   "execution_count": 4,
   "metadata": {
    "slideshow": {
     "slide_type": "slide"
    }
   },
   "outputs": [
    {
     "name": "stdout",
     "output_type": "stream",
     "text": [
      "Sex\n",
      "female    314\n",
      "male      573\n",
      "Name: Name, dtype: int64\n",
      "Sex\n",
      "female    314.733843\n",
      "male      571.266445\n",
      "Name: Name, dtype: float64\n"
     ]
    }
   ],
   "source": [
    "def make_private(x, sensitivity, epsilon):\n",
    "    return x + np.random.laplace(0, sensitivity/epsilon)\n",
    "\n",
    "eps = 0.5\n",
    "query_result = df.groupby(['Sex'])['Name'].count()\n",
    "print(query_result)\n",
    "print(query_result.apply(lambda x: make_private(x, 1, eps)))"
   ]
  },
  {
   "cell_type": "markdown",
   "metadata": {
    "slideshow": {
     "slide_type": "slide"
    }
   },
   "source": [
    "## The Story\n",
    "* Jack Golddigger wants to flirt with women that travel at least second or first class\n",
    "* He starts counting women in the third class area. He counts 144.\n",
    "* He becomes buddies with the captain and after some drinks he asks whether he can have the passenger list\n",
    "* The captain wants to help Jack, but he suddenly he realizes that the he didn't ask the passengers for consent to share their personal data with Jack. He doesn't want to be fined for violating GDPR! So he tells check he will only give him aggregated data.\n",
    "* Let's see the scenario where the captain doesn't know about differential privacy"
   ]
  },
  {
   "cell_type": "code",
   "execution_count": 5,
   "metadata": {
    "slideshow": {
     "slide_type": "slide"
    }
   },
   "outputs": [
    {
     "name": "stdout",
     "output_type": "stream",
     "text": [
      "Sex     Pclass\n",
      "female  1          94\n",
      "        2          76\n",
      "        3         144\n",
      "male    1         122\n",
      "        2         108\n",
      "        3         343\n",
      "Name: Name, dtype: int64\n"
     ]
    }
   ],
   "source": [
    "query_result = df.groupby(['Sex', 'Pclass'])['Name'].count()\n",
    "print(query_result)"
   ]
  },
  {
   "cell_type": "markdown",
   "metadata": {
    "slideshow": {
     "slide_type": "slide"
    }
   },
   "source": [
    "* Now let's see what happens when the captain adds noise to create 0.5-differential privacy."
   ]
  },
  {
   "cell_type": "code",
   "execution_count": 6,
   "metadata": {
    "slideshow": {
     "slide_type": "fragment"
    }
   },
   "outputs": [
    {
     "name": "stdout",
     "output_type": "stream",
     "text": [
      "Sex     Pclass\n",
      "female  1          94\n",
      "        2          76\n",
      "        3         144\n",
      "male    1         122\n",
      "        2         108\n",
      "        3         343\n",
      "Name: Name, dtype: int64\n",
      "Sex     Pclass\n",
      "female  1          93.603510\n",
      "        2          73.522795\n",
      "        3         141.803300\n",
      "male    1         119.417027\n",
      "        2          98.073811\n",
      "        3         342.567354\n",
      "Name: Name, dtype: float64\n"
     ]
    }
   ],
   "source": [
    "print(query_result)\n",
    "print(query_result.apply(lambda x: make_private(x, 1, eps)))"
   ]
  },
  {
   "cell_type": "markdown",
   "metadata": {
    "slideshow": {
     "slide_type": "slide"
    }
   },
   "source": [
    "## But wait... Jack still knows with very high probability when he sees a new women she will be second or first class."
   ]
  },
  {
   "cell_type": "markdown",
   "metadata": {
    "slideshow": {
     "slide_type": "fragment"
    }
   },
   "source": [
    "## Yes, but the data provided by the captain doesn't give Jack additional information.\n",
    "* Think about cases where some users choose to keep some data private\n",
    "* Somebody has personal data about you for sure. The point is we want to prevent enrichment of this data using aggregated and anonymous datasets."
   ]
  },
  {
   "cell_type": "code",
   "execution_count": 7,
   "metadata": {
    "slideshow": {
     "slide_type": "slide"
    }
   },
   "outputs": [
    {
     "name": "stdout",
     "output_type": "stream",
     "text": [
      "Sex\n",
      "female    314\n",
      "male      573\n",
      "Name: Name, dtype: int64\n",
      "Sex\n",
      "female    315.202366\n",
      "male      579.555056\n",
      "Name: Name, dtype: float64\n",
      "female    314.173086\n",
      "male      572.942915\n",
      "dtype: float64\n"
     ]
    }
   ],
   "source": [
    "# let's illustrate Privacy Budget\n",
    "\n",
    "eps = 0.5\n",
    "n_queries = 1000\n",
    "\n",
    "sex_counts = pd.DataFrame({'female': np.zeros(n_queries), \n",
    "                           'male': np.zeros(n_queries)})\n",
    "\n",
    "for i in range(n_queries):\n",
    "    query_result = df.groupby(['Sex'])['Name'].count()\n",
    "    query_result = query_result.apply(lambda x: make_private(x, 1, eps))\n",
    "    sex_counts.iloc[i,:] = [query_result.loc['female'], \n",
    "                            query_result.loc['male']]\n",
    "\n",
    "query_result = df.groupby(['Sex'])['Name'].count()\n",
    "print(query_result)\n",
    "print(query_result.apply(lambda x: make_private(x, 1, eps)))\n",
    "print(sex_counts.mean())"
   ]
  },
  {
   "cell_type": "markdown",
   "metadata": {
    "slideshow": {
     "slide_type": "skip"
    }
   },
   "source": [
    "$\\epsilon = 2$ is used by Apple for auto correct keyboard according to [this blog](https://medium.com/georgian-impact-blog/a-brief-introduction-to-differential-privacy-eacf8722283b)\n",
    "\n",
    "Which seems to be referring to [Dwork's Algorithmic Foundations of Differential Privacy](https://www.cis.upenn.edu/~aaroth/Papers/privacybook.pdf) but I think it's a bad reference..."
   ]
  },
  {
   "cell_type": "code",
   "execution_count": 8,
   "metadata": {
    "slideshow": {
     "slide_type": "skip"
    }
   },
   "outputs": [
    {
     "name": "stdout",
     "output_type": "stream",
     "text": [
      "For Pclass we have sensitivity of 2\n",
      "Sex\n",
      "female    2.159236\n",
      "male      2.385689\n",
      "Name: Pclass, dtype: float64\n",
      "Sex\n",
      "female   -4.919474\n",
      "male      3.237175\n",
      "Name: Pclass, dtype: float64\n",
      "Age\n",
      "0.42     3.0\n",
      "0.67     2.0\n",
      "0.75     3.0\n",
      "0.83     2.0\n",
      "0.92     1.0\n",
      "        ... \n",
      "70.00    1.5\n",
      "70.50    3.0\n",
      "71.00    1.0\n",
      "74.00    3.0\n",
      "80.00    1.0\n",
      "Name: Pclass, Length: 89, dtype: float64\n",
      "Age\n",
      "0.42     2.318222\n",
      "0.67     0.375538\n",
      "0.75     3.281203\n",
      "0.83     1.750002\n",
      "0.92    -2.401564\n",
      "           ...   \n",
      "70.00    1.814393\n",
      "70.50    2.821841\n",
      "71.00    2.046392\n",
      "74.00    1.771370\n",
      "80.00   -0.536544\n",
      "Name: Pclass, Length: 89, dtype: float64\n"
     ]
    }
   ],
   "source": [
    "eps = 2\n",
    "  \n",
    "sensitivity = df.Pclass.max() - df.Pclass.min()\n",
    "print('For Pclass we have sensitivity of {}'.format(sensitivity))\n",
    "\n",
    "print(df.groupby(['Sex'])['Pclass'].mean())\n",
    "print(df.groupby(['Sex'])['Pclass'].mean().apply(lambda x: make_private(x, sensitivity, eps)))\n",
    "\n",
    "print(df.groupby(['Age'])['Pclass'].mean())\n",
    "print(df.groupby(['Age'])['Pclass'].mean().apply(lambda x: make_private(x, sensitivity, eps)))"
   ]
  },
  {
   "cell_type": "code",
   "execution_count": 9,
   "metadata": {
    "slideshow": {
     "slide_type": "skip"
    }
   },
   "outputs": [
    {
     "name": "stdout",
     "output_type": "stream",
     "text": [
      "512.3292\n",
      "512.3292\n",
      "Sex     Pclass\n",
      "female  1         106.125798\n",
      "        2          21.970121\n",
      "        3          16.118810\n",
      "male    1          67.226127\n",
      "        2          19.741782\n",
      "        3          12.695466\n",
      "Name: Fare, dtype: float64\n",
      "Sex     Pclass\n",
      "female  1          38.797455\n",
      "        2          65.373689\n",
      "        3         519.537868\n",
      "male    1         441.149810\n",
      "        2         704.183104\n",
      "        3         353.269157\n",
      "Name: Fare, dtype: float64\n"
     ]
    }
   ],
   "source": [
    "sensitivity = df.Fare.max() - df.Fare.min()\n",
    "print(df.Fare.max())\n",
    "print(sensitivity)\n",
    "\n",
    "print(df.groupby(['Sex', 'Pclass'])['Fare'].mean())\n",
    "print(df.groupby(['Sex', 'Pclass'])['Fare'].mean().apply(lambda x: make_private(x, sensitivity, eps)))"
   ]
  },
  {
   "cell_type": "code",
   "execution_count": 10,
   "metadata": {
    "slideshow": {
     "slide_type": "slide"
    }
   },
   "outputs": [
    {
     "name": "stdout",
     "output_type": "stream",
     "text": [
      "Age\n",
      "0.42     1\n",
      "0.67     1\n",
      "0.75     2\n",
      "0.83     2\n",
      "0.92     1\n",
      "        ..\n",
      "70.00    2\n",
      "70.50    1\n",
      "71.00    2\n",
      "74.00    1\n",
      "80.00    1\n",
      "Name: Name, Length: 89, dtype: int64\n",
      "Age\n",
      "0.42     1.413038\n",
      "0.67     0.642507\n",
      "0.75     1.420312\n",
      "0.83     1.664961\n",
      "0.92     0.786798\n",
      "           ...   \n",
      "70.00    1.879182\n",
      "70.50    0.024756\n",
      "71.00    1.943456\n",
      "74.00    0.736415\n",
      "80.00    0.155299\n",
      "Name: Name, Length: 89, dtype: float64\n"
     ]
    }
   ],
   "source": [
    "# Second pitfall: leaking GROUP BY keys\n",
    "\n",
    "query_result = df.groupby(['Age'])['Name'].count()\n",
    "print(query_result)\n",
    "print(query_result.apply(lambda x: make_private(x, 1, eps)))"
   ]
  },
  {
   "cell_type": "code",
   "execution_count": 11,
   "metadata": {
    "slideshow": {
     "slide_type": "slide"
    }
   },
   "outputs": [
    {
     "name": "stdout",
     "output_type": "stream",
     "text": [
      "    Age      Count\n",
      "0     0   7.631785\n",
      "1     1   6.271956\n",
      "2     2  11.495892\n",
      "3     3   7.055249\n",
      "4     4  10.584089\n",
      "..  ...        ...\n",
      "95   95   0.440740\n",
      "96   96  -0.301184\n",
      "97   97  -0.164496\n",
      "98   98   0.027203\n",
      "99   99  -0.124393\n",
      "\n",
      "[100 rows x 2 columns]\n"
     ]
    }
   ],
   "source": [
    "# Second pitfall: leaking GROUP BY keys\n",
    "# A solution\n",
    "\n",
    "df['Age_floor'] = df['Age'].apply(np.floor)\n",
    "\n",
    "query_result = df.groupby(['Age_floor'])['Name'].count()\n",
    "\n",
    "private_result = pd.DataFrame(data = {'Age_floor': np.array(range(100))})\n",
    "private_result = private_result.merge(query_result.reset_index(), \n",
    "                                      how='left')\n",
    "private_result.columns = ['Age', 'Count']\n",
    "private_result = private_result.fillna(0)\n",
    "private_result['Count'] = private_result['Count'].apply(\n",
    "    lambda x: make_private(x, 1, eps))\n",
    "\n",
    "print(private_result)"
   ]
  },
  {
   "cell_type": "code",
   "execution_count": 12,
   "metadata": {
    "slideshow": {
     "slide_type": "slide"
    }
   },
   "outputs": [
    {
     "name": "stdout",
     "output_type": "stream",
     "text": [
      "Age\n",
      "47.0    10.679673\n",
      "48.0    11.447399\n",
      "49.0     9.126920\n",
      "50.0    10.174909\n",
      "51.0     7.478099\n",
      "52.0     6.111810\n",
      "54.0     9.183602\n",
      "58.0     5.285229\n",
      "60.0     4.102327\n",
      "62.0     4.899828\n",
      "Name: Name, dtype: float64\n"
     ]
    }
   ],
   "source": [
    "# Second pitfall: leaking GROUP BY keys\n",
    "# Solution proposed by Google\n",
    "\n",
    "min_count = 5\n",
    "\n",
    "query_result = df.groupby(['Age'])['Name'].count()\n",
    "query_result = query_result[query_result >= min_count]\n",
    "\n",
    "print(query_result.apply(lambda x: make_private(x, 1, eps)).iloc[-10:,])"
   ]
  },
  {
   "cell_type": "markdown",
   "metadata": {
    "slideshow": {
     "slide_type": "slide"
    }
   },
   "source": [
    "## Differential privacy for machine learning\n",
    "\n",
    "<p><img src='images/PATE.png'></p>\n",
    "\n",
    "* [Privacy and machine learning: two unexpected allies?](http://www.cleverhans.io/privacy/2018/04/29/privacy-and-machine-learning.html)\n",
    "* [Scalable private machine learning with PATE](https://arxiv.org/pdf/1802.08908.pdf)\n",
    "* [Deep learning with Differential Privacy](https://arxiv.org/pdf/1607.00133.pdf)"
   ]
  },
  {
   "cell_type": "code",
   "execution_count": 13,
   "metadata": {
    "slideshow": {
     "slide_type": "skip"
    }
   },
   "outputs": [],
   "source": [
    "def create_three_node_graph(node1, node2, node3, filename):\n",
    "    nodes = [node1, node2, node3]\n",
    "    edges = {(node1, node2),\n",
    "             (node1, node3),\n",
    "             (node2, node3)}\n",
    "\n",
    "    # create graph object\n",
    "    G = nx.Graph()\n",
    "\n",
    "    # nodes correspond to states\n",
    "    G.add_nodes_from(nodes)\n",
    "\n",
    "    # edges represent transition probabilities\n",
    "    for k in edges:\n",
    "        tmp_origin, tmp_destination = k[0], k[1]\n",
    "        G.add_edge(tmp_origin, tmp_destination)\n",
    "\n",
    "    # pos = nx.drawing.nx_pydot.graphviz_layout(G, prog='dot')\n",
    "    # nx.draw_networkx(G, pos)\n",
    "\n",
    "    nx.drawing.nx_pydot.write_dot(G, filename)"
   ]
  },
  {
   "cell_type": "code",
   "execution_count": 14,
   "metadata": {
    "slideshow": {
     "slide_type": "skip"
    }
   },
   "outputs": [],
   "source": [
    "filename = 'advertising.dot'\n",
    "create_three_node_graph('consumers', 'publishers', 'advertisers', filename)\n",
    "with open(filename) as f:\n",
    "    dot_graph = f.read()"
   ]
  },
  {
   "cell_type": "markdown",
   "metadata": {
    "slideshow": {
     "slide_type": "slide"
    }
   },
   "source": [
    "## Advertising perspective\n",
    "* Advertising auctions have the promise of benefits for everybody\n",
    "* This is not a Zero-Sum Game"
   ]
  },
  {
   "cell_type": "code",
   "execution_count": 15,
   "metadata": {
    "slideshow": {
     "slide_type": "fragment"
    }
   },
   "outputs": [
    {
     "data": {
      "image/svg+xml": [
       "<?xml version=\"1.0\" encoding=\"UTF-8\" standalone=\"no\"?>\n",
       "<!DOCTYPE svg PUBLIC \"-//W3C//DTD SVG 1.1//EN\"\n",
       " \"http://www.w3.org/Graphics/SVG/1.1/DTD/svg11.dtd\">\n",
       "<!-- Generated by graphviz version 2.40.1 (20161225.0304)\n",
       " -->\n",
       "<!-- Title: %3 Pages: 1 -->\n",
       "<svg width=\"141pt\" height=\"188pt\"\n",
       " viewBox=\"0.00 0.00 140.54 188.00\" xmlns=\"http://www.w3.org/2000/svg\" xmlns:xlink=\"http://www.w3.org/1999/xlink\">\n",
       "<g id=\"graph0\" class=\"graph\" transform=\"scale(1 1) rotate(0) translate(4 184)\">\n",
       "<title>%3</title>\n",
       "<polygon fill=\"#ffffff\" stroke=\"transparent\" points=\"-4,4 -4,-184 136.5415,-184 136.5415,4 -4,4\"/>\n",
       "<!-- consumers -->\n",
       "<g id=\"node1\" class=\"node\">\n",
       "<title>consumers</title>\n",
       "<ellipse fill=\"none\" stroke=\"#000000\" cx=\"83.7958\" cy=\"-162\" rx=\"48.9926\" ry=\"18\"/>\n",
       "<text text-anchor=\"middle\" x=\"83.7958\" y=\"-158.3\" font-family=\"Times,serif\" font-size=\"14.00\" fill=\"#000000\">consumers</text>\n",
       "</g>\n",
       "<!-- publishers -->\n",
       "<g id=\"node2\" class=\"node\">\n",
       "<title>publishers</title>\n",
       "<ellipse fill=\"none\" stroke=\"#000000\" cx=\"46.7958\" cy=\"-90\" rx=\"46.5926\" ry=\"18\"/>\n",
       "<text text-anchor=\"middle\" x=\"46.7958\" y=\"-86.3\" font-family=\"Times,serif\" font-size=\"14.00\" fill=\"#000000\">publishers</text>\n",
       "</g>\n",
       "<!-- consumers&#45;&#45;publishers -->\n",
       "<g id=\"edge2\" class=\"edge\">\n",
       "<title>consumers&#45;&#45;publishers</title>\n",
       "<path fill=\"none\" stroke=\"#000000\" d=\"M74.6498,-144.2022C68.9574,-133.1252 61.6616,-118.928 55.9649,-107.8425\"/>\n",
       "</g>\n",
       "<!-- advertisers -->\n",
       "<g id=\"node3\" class=\"node\">\n",
       "<title>advertisers</title>\n",
       "<ellipse fill=\"none\" stroke=\"#000000\" cx=\"83.7958\" cy=\"-18\" rx=\"48.9926\" ry=\"18\"/>\n",
       "<text text-anchor=\"middle\" x=\"83.7958\" y=\"-14.3\" font-family=\"Times,serif\" font-size=\"14.00\" fill=\"#000000\">advertisers</text>\n",
       "</g>\n",
       "<!-- consumers&#45;&#45;advertisers -->\n",
       "<g id=\"edge1\" class=\"edge\">\n",
       "<title>consumers&#45;&#45;advertisers</title>\n",
       "<path fill=\"none\" stroke=\"#000000\" d=\"M91.8875,-143.9165C96.052,-133.6179 100.6876,-120.3436 102.7958,-108 105.4895,-92.2284 105.4895,-87.7716 102.7958,-72 100.6876,-59.6564 96.052,-46.3821 91.8875,-36.0835\"/>\n",
       "</g>\n",
       "<!-- publishers&#45;&#45;advertisers -->\n",
       "<g id=\"edge3\" class=\"edge\">\n",
       "<title>publishers&#45;&#45;advertisers</title>\n",
       "<path fill=\"none\" stroke=\"#000000\" d=\"M55.9419,-72.2022C61.6343,-61.1252 68.9301,-46.928 74.6268,-35.8425\"/>\n",
       "</g>\n",
       "</g>\n",
       "</svg>\n"
      ],
      "text/plain": [
       "<graphviz.files.Source at 0x7fa2ce2be3c8>"
      ]
     },
     "execution_count": 15,
     "metadata": {},
     "output_type": "execute_result"
    }
   ],
   "source": [
    "graphviz.Source(dot_graph)"
   ]
  },
  {
   "cell_type": "markdown",
   "metadata": {
    "slideshow": {
     "slide_type": "fragment"
    }
   },
   "source": [
    "* But retargeting and micro-targeting comes at huge privacy cost\n",
    "* And doesn't even generate that much business value"
   ]
  },
  {
   "cell_type": "markdown",
   "metadata": {
    "slideshow": {
     "slide_type": "slide"
    }
   },
   "source": [
    "## Current developments\n",
    "* Safari, Firefox and Edge all rolled out 'intelligent tracking prevention'\n",
    "* This helps protect privacy, but also totally breaks down advertising auctions\n",
    "* And includes huge commercial interests: [Spotify antitrust complaint against Apple](https://www.theverge.com/2019/5/6/18530894/apple-music-monopoly-spotify-app-store-europe)\n",
    "* Chromium open-source community has some very interessing ideas on how to apply differential privacy to browsers such that privacy is protected while advertising auctions are still possible. It's called [Privacy Sandbox](https://www.chromium.org/Home/chromium-privacy/privacy-sandbox)."
   ]
  },
  {
   "cell_type": "markdown",
   "metadata": {
    "slideshow": {
     "slide_type": "slide"
    }
   },
   "source": [
    "## Final thoughts\n",
    "* Unfortunately, differential privacy, or 'not having personal data' doesn't solve all issues\n",
    "* Essentially, advertising and marketing in general is influencing consumer behavior"
   ]
  },
  {
   "cell_type": "markdown",
   "metadata": {
    "slideshow": {
     "slide_type": "slide"
    }
   },
   "source": [
    "## Questions?"
   ]
  },
  {
   "cell_type": "markdown",
   "metadata": {
    "slideshow": {
     "slide_type": "slide"
    }
   },
   "source": [
    "### I would like to thank the passengers of the Titanic\n",
    "I don't think they have given consent for being part of this talk"
   ]
  },
  {
   "cell_type": "code",
   "execution_count": 16,
   "metadata": {
    "slideshow": {
     "slide_type": "skip"
    }
   },
   "outputs": [
    {
     "name": "stdout",
     "output_type": "stream",
     "text": [
      "[NbConvertApp] Converting notebook differential_privacy.ipynb to slides\n",
      "[NbConvertApp] Writing 307385 bytes to differential_privacy.slides.html\n",
      "[NbConvertApp] Redirecting reveal.js requests to https://cdnjs.cloudflare.com/ajax/libs/reveal.js/3.5.0\n",
      "Serving your slides at http://127.0.0.1:8000/differential_privacy.slides.html\n",
      "Use Control-C to stop this server\n",
      "Opening in existing browser session.\n",
      "WARNING:tornado.access:404 GET /custom.css (127.0.0.1) 0.68ms\n",
      "WARNING:tornado.access:404 GET /custom.css (127.0.0.1) 1.35ms\n",
      "^C\n",
      "\n",
      "Interrupted\n"
     ]
    }
   ],
   "source": [
    "!jupyter nbconvert differential_privacy.ipynb --to slides --post serve"
   ]
  }
 ],
 "metadata": {
  "celltoolbar": "Slideshow",
  "kernelspec": {
   "display_name": "differential_privacy",
   "language": "python",
   "name": "differential_privacy"
  },
  "language_info": {
   "codemirror_mode": {
    "name": "ipython",
    "version": 3
   },
   "file_extension": ".py",
   "mimetype": "text/x-python",
   "name": "python",
   "nbconvert_exporter": "python",
   "pygments_lexer": "ipython3",
   "version": "3.6.8"
  }
 },
 "nbformat": 4,
 "nbformat_minor": 2
}
